# Basic Libraries
import numpy as np
import pandas as pd
import seaborn as sb
import matplotlib.pyplot as plt # we only need pyplot
sb.set() # set the default Seaborn style for graphics
from sklearn.tree import DecisionTreeClassifier
from sklearn.model_selection import train_test_split
from sklearn.metrics import confusion_matrix
from sklearn.tree import plot_tree
from sklearn.tree import export_graphviz

hsedata = pd.read_csv('train.csv')

# CentralAir - SalePrice Dataset
SalePrice = pd.DataFrame(hsedata['SalePrice']) #Predictor
CentralAir = pd.DataFrame(hsedata['CentralAir']) #Response

# Split Dataset into Train and Test
X_train, X_test, y_train, y_test = train_test_split(SalePrice, CentralAir, test_size = 0.2)

# Decision Tree 1 (max depth 2) using Train Data
dectree1 = DecisionTreeClassifier(max_depth = 2) #creating decision tree object
dectree1.fit(X_train, y_train) # train decision tree model

# Decision Tree 2 (max depth 4) using Train Data
dectree2 = DecisionTreeClassifier(max_depth = 4) #creating decision tree object
dectree2.fit(X_train, y_train) #train decision tree model

# Predict CentralAir values corresponding to SalePrice using Decision Tree 1
y_train_pred1 = dectree1.predict(X_train)
y_test_pred1 = dectree1.predict(X_test)

# Predict CentralAir values corresponding to SalePrice using Decision Tree 2
y_train_pred2 = dectree2.predict(X_train)
y_test_pred2 = dectree2.predict(X_test)
